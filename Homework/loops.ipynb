{
 "cells": [
  {
   "cell_type": "code",
   "execution_count": 1,
   "metadata": {},
   "outputs": [
    {
     "name": "stdout",
     "output_type": "stream",
     "text": [
      "0\n",
      "1\n",
      "2\n",
      "3\n",
      "4\n",
      "5\n",
      "6\n",
      "7\n",
      "8\n",
      "9\n",
      "10\n"
     ]
    }
   ],
   "source": [
    "# ques: 1\n",
    "\n",
    "for i in range(11): print(i)"
   ]
  },
  {
   "cell_type": "code",
   "execution_count": 11,
   "metadata": {},
   "outputs": [
    {
     "name": "stdout",
     "output_type": "stream",
     "text": [
      "15486 x  1 = 15486\n",
      "15486 x  2 = 30972\n",
      "15486 x  3 = 46458\n",
      "15486 x  4 = 61944\n",
      "15486 x  5 = 77430\n",
      "15486 x  6 = 92916\n",
      "15486 x  7 = 108402\n",
      "15486 x  8 = 123888\n",
      "15486 x  9 = 139374\n",
      "15486 x 10 = 154860\n"
     ]
    }
   ],
   "source": [
    "# ques: 2\n",
    "\n",
    "n = int(input(\"Enter a program\"))\n",
    "t = 1\n",
    "while t<=10: print(f\"{n} x {t:2} = {n*t}\"); t+=1"
   ]
  },
  {
   "cell_type": "code",
   "execution_count": 12,
   "metadata": {},
   "outputs": [
    {
     "data": {
      "text/plain": [
       "2550"
      ]
     },
     "execution_count": 12,
     "metadata": {},
     "output_type": "execute_result"
    }
   ],
   "source": [
    "# ques: 3\n",
    "\n",
    "sum([i if i%2==0 else 0 for i in range(101)])"
   ]
  },
  {
   "cell_type": "code",
   "execution_count": 13,
   "metadata": {},
   "outputs": [
    {
     "name": "stdout",
     "output_type": "stream",
     "text": [
      "prime number\n"
     ]
    }
   ],
   "source": [
    "# ques: 4\n",
    "\n",
    "n = int(input(\"Enter a number\"))\n",
    "t = 2\n",
    "while t<=n//2:\n",
    "    if n%t==0:\n",
    "        print(\"not a prime number\")\n",
    "    t += 1\n",
    "else:\n",
    "    print(\"prime number\")"
   ]
  },
  {
   "cell_type": "code",
   "execution_count": 15,
   "metadata": {},
   "outputs": [
    {
     "name": "stdout",
     "output_type": "stream",
     "text": [
      "3628800\n"
     ]
    }
   ],
   "source": [
    "# ques: 5\n",
    "\n",
    "n = int(input(\"Enter a no\"))\n",
    "p = 1\n",
    "for i in range(1,n+1):\n",
    "    p *= i\n",
    "print(p)"
   ]
  },
  {
   "cell_type": "code",
   "execution_count": 17,
   "metadata": {},
   "outputs": [
    {
     "name": "stdout",
     "output_type": "stream",
     "text": [
      "0, 1, 1, 2, 3, 5, 8, 13, 21, 34, 55, 89, 144, 233, 377, 610, 987, 1597, 2584, 4181, 6765, 10946, 17711, 28657, 46368, 75025, 121393, 196418, 317811, 514229, 832040, 1346269, 2178309, 3524578, 5702887, 9227465, 14930352, 24157817, 39088169, 63245986, 102334155, 165580141, 267914296, 433494437, 701408733, 1134903170, 1836311903, 2971215073, 4807526976, 7778742049, 12586269025, 20365011074, 32951280099, 53316291173, 86267571272, 139583862445, 225851433717, 365435296162, 591286729879, 956722026041, 1548008755920, 2504730781961, 4052739537881, 6557470319842, 10610209857723, 17167680177565, 27777890035288, 44945570212853, 72723460248141, 117669030460994, 190392490709135, 308061521170129, 498454011879264, 806515533049393, 1304969544928657, 2111485077978050, 3416454622906707, 5527939700884757, 8944394323791464, 14472334024676221, 23416728348467685, 37889062373143906, 61305790721611591, 99194853094755497, 160500643816367088, 259695496911122585, 420196140727489673, 679891637638612258, 1100087778366101931, 1779979416004714189, 2880067194370816120, 4660046610375530309, 7540113804746346429, 12200160415121876738, 19740274219868223167, 31940434634990099905, 51680708854858323072, 83621143489848422977, 135301852344706746049, 218922995834555169026, "
     ]
    }
   ],
   "source": [
    "# ques: 6\n",
    "\n",
    "n = int(input(\"Enter a no\"))\n",
    "a, b = 0, 1\n",
    "for i in range(n):\n",
    "    print(a, end=\", \")\n",
    "    a, b = b, a+b\n"
   ]
  },
  {
   "cell_type": "code",
   "execution_count": 19,
   "metadata": {},
   "outputs": [
    {
     "name": "stdout",
     "output_type": "stream",
     "text": [
      "2555\n"
     ]
    }
   ],
   "source": [
    "# ques: 7\n",
    "\n",
    "arr = [10,100,250,60,330,1000,85,75,500,96,341,589,2555,347]\n",
    "max = 0\n",
    "for i in arr:\n",
    "    if max < i:\n",
    "        max = i\n",
    "print(max)"
   ]
  },
  {
   "cell_type": "code",
   "execution_count": 22,
   "metadata": {},
   "outputs": [
    {
     "name": "stdout",
     "output_type": "stream",
     "text": [
      "lawsiaJ jaR hsraH si eman ym olleH\n"
     ]
    }
   ],
   "source": [
    "# ques: 8\n",
    "\n",
    "s = input(\"Enter a string\")\n",
    "l = len(s)-1\n",
    "rev = \"\"\n",
    "while l >= 0:\n",
    "    rev += s[l]\n",
    "    l-=1\n",
    "print(rev)"
   ]
  },
  {
   "cell_type": "code",
   "execution_count": 26,
   "metadata": {},
   "outputs": [
    {
     "name": "stdout",
     "output_type": "stream",
     "text": [
      "A : 65\n",
      "B : 66\n",
      "C : 67\n",
      "D : 68\n",
      "E : 69\n",
      "F : 70\n",
      "G : 71\n",
      "H : 72\n",
      "I : 73\n",
      "J : 74\n",
      "K : 75\n",
      "L : 76\n",
      "M : 77\n",
      "N : 78\n",
      "O : 79\n",
      "P : 80\n",
      "Q : 81\n",
      "R : 82\n",
      "S : 83\n",
      "T : 84\n",
      "U : 85\n",
      "V : 86\n",
      "W : 87\n",
      "X : 88\n",
      "Y : 89\n",
      "Z : 90\n"
     ]
    }
   ],
   "source": [
    "# ques: 9\n",
    "\n",
    "for letter in range(ord(\"A\"),ord(\"Z\")+1):\n",
    "    print(f\"{chr(letter)} : {letter}\")\n",
    "\n"
   ]
  },
  {
   "cell_type": "code",
   "execution_count": 28,
   "metadata": {},
   "outputs": [
    {
     "name": "stdout",
     "output_type": "stream",
     "text": [
      "not a palindrome string\n"
     ]
    }
   ],
   "source": [
    "# ques: 10\n",
    "\n",
    "s = input(\"Enter a string\")\n",
    "rev = \"\"\n",
    "for i in s:\n",
    "    rev = i + rev\n",
    "if s == rev:\n",
    "    print(\"palindrome string\")\n",
    "else:\n",
    "    print(\"not a palindrome string\")"
   ]
  },
  {
   "cell_type": "code",
   "execution_count": 30,
   "metadata": {},
   "outputs": [
    {
     "name": "stdout",
     "output_type": "stream",
     "text": [
      "Average: 452.71\n"
     ]
    }
   ],
   "source": [
    "# ques: 11\n",
    "\n",
    "arr = [10,100,250,60,330,1000,85,75,500,96,341,589,2555,347]\n",
    "sum = 0\n",
    "for i in arr:\n",
    "    sum += i\n",
    "print(f\"Average: {sum/len(arr):.2f}\")"
   ]
  },
  {
   "cell_type": "code",
   "execution_count": 31,
   "metadata": {},
   "outputs": [
    {
     "name": "stdout",
     "output_type": "stream",
     "text": [
      "5\n"
     ]
    }
   ],
   "source": [
    "# ques: 12\n",
    "\n",
    "arr = [10,100,250,60,330,1000,85,75,500,96,341,589,2555,347,5]\n",
    "i = 1\n",
    "min = arr[0]\n",
    "while i < len(arr):\n",
    "    if min > arr[i]:\n",
    "        min = arr[i]\n",
    "    i+=1\n",
    "print(min)"
   ]
  },
  {
   "cell_type": "code",
   "execution_count": 32,
   "metadata": {},
   "outputs": [
    {
     "name": "stdout",
     "output_type": "stream",
     "text": [
      "84\n"
     ]
    }
   ],
   "source": [
    "# ques: 13\n",
    "\n",
    "n = int(input(\"Enter a no\"))\n",
    "s  = str(n)\n",
    "sum = 0\n",
    "for digit in s:\n",
    "    sum+=int(digit)\n",
    "print(sum)"
   ]
  },
  {
   "cell_type": "code",
   "execution_count": 36,
   "metadata": {},
   "outputs": [
    {
     "name": "stdout",
     "output_type": "stream",
     "text": [
      "the list contains leap year\n"
     ]
    }
   ],
   "source": [
    "# ques: 14\n",
    "\n",
    "arr = [1542,3558,2101,2014,1954,1900,1600]\n",
    "i = 0\n",
    "while i<len(arr):\n",
    "    if (arr[i]%4==0 and arr[i]%100!=0) or (arr[i]%100==0 and arr[i]%400==0):\n",
    "        print(\"the list contains leap year\")\n",
    "        break\n",
    "    i+=1\n",
    "else:\n",
    "    print(\"the list does not contains a leap year\")\n"
   ]
  },
  {
   "cell_type": "code",
   "execution_count": 37,
   "metadata": {},
   "outputs": [
    {
     "name": "stdout",
     "output_type": "stream",
     "text": [
      "Table of 1\n",
      "1 x  1 = 1\n",
      "1 x  2 = 2\n",
      "1 x  3 = 3\n",
      "1 x  4 = 4\n",
      "1 x  5 = 5\n",
      "1 x  6 = 6\n",
      "1 x  7 = 7\n",
      "1 x  8 = 8\n",
      "1 x  9 = 9\n",
      "1 x 10 = 10\n",
      "\n",
      "Table of 2\n",
      "2 x  1 = 2\n",
      "2 x  2 = 4\n",
      "2 x  3 = 6\n",
      "2 x  4 = 8\n",
      "2 x  5 = 10\n",
      "2 x  6 = 12\n",
      "2 x  7 = 14\n",
      "2 x  8 = 16\n",
      "2 x  9 = 18\n",
      "2 x 10 = 20\n",
      "\n",
      "Table of 3\n",
      "3 x  1 = 3\n",
      "3 x  2 = 6\n",
      "3 x  3 = 9\n",
      "3 x  4 = 12\n",
      "3 x  5 = 15\n",
      "3 x  6 = 18\n",
      "3 x  7 = 21\n",
      "3 x  8 = 24\n",
      "3 x  9 = 27\n",
      "3 x 10 = 30\n",
      "\n",
      "Table of 4\n",
      "4 x  1 = 4\n",
      "4 x  2 = 8\n",
      "4 x  3 = 12\n",
      "4 x  4 = 16\n",
      "4 x  5 = 20\n",
      "4 x  6 = 24\n",
      "4 x  7 = 28\n",
      "4 x  8 = 32\n",
      "4 x  9 = 36\n",
      "4 x 10 = 40\n",
      "\n",
      "Table of 5\n",
      "5 x  1 = 5\n",
      "5 x  2 = 10\n",
      "5 x  3 = 15\n",
      "5 x  4 = 20\n",
      "5 x  5 = 25\n",
      "5 x  6 = 30\n",
      "5 x  7 = 35\n",
      "5 x  8 = 40\n",
      "5 x  9 = 45\n",
      "5 x 10 = 50\n",
      "\n"
     ]
    }
   ],
   "source": [
    "# ques: 15\n",
    "\n",
    "for i in range(1,6):\n",
    "    print(f\"Table of {i}\")\n",
    "    for j in range(1,11):\n",
    "        print(f\"{i} x {j:2} = {i*j}\")\n",
    "    print()"
   ]
  },
  {
   "cell_type": "code",
   "execution_count": 1,
   "metadata": {},
   "outputs": [
    {
     "name": "stdout",
     "output_type": "stream",
     "text": [
      "the number of vowels are : 10\n"
     ]
    }
   ],
   "source": [
    "# ques: 16\n",
    "\n",
    "s = input(\"enter a string\").lower()\n",
    "vowels = \"aeiou\"\n",
    "c= 0\n",
    "for i in vowels:\n",
    "    c += s.count(i)\n",
    "print(f\"the number of vowels are : {c}\")"
   ]
  },
  {
   "cell_type": "code",
   "execution_count": 2,
   "metadata": {},
   "outputs": [
    {
     "name": "stdout",
     "output_type": "stream",
     "text": [
      "2555 5\n"
     ]
    }
   ],
   "source": [
    "# ques: 17\n",
    "\n",
    "arr = [10,100,250,60,330,1000,85,75,500,96,341,589,2555,347,5]\n",
    "max = 0\n",
    "min = arr[0]\n",
    "for i in arr:\n",
    "    if max < i:\n",
    "        max = i\n",
    "    if min > i:\n",
    "        min = i\n",
    "print(max,min)"
   ]
  }
 ],
 "metadata": {
  "kernelspec": {
   "display_name": "base",
   "language": "python",
   "name": "python3"
  },
  "language_info": {
   "codemirror_mode": {
    "name": "ipython",
    "version": 3
   },
   "file_extension": ".py",
   "mimetype": "text/x-python",
   "name": "python",
   "nbconvert_exporter": "python",
   "pygments_lexer": "ipython3",
   "version": "3.12.3"
  }
 },
 "nbformat": 4,
 "nbformat_minor": 2
}

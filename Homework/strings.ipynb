{
 "cells": [
  {
   "cell_type": "code",
   "execution_count": 1,
   "metadata": {},
   "outputs": [
    {
     "name": "stdout",
     "output_type": "stream",
     "text": [
      "Hello my name is Harsh Raj Jaiswal\n"
     ]
    }
   ],
   "source": [
    "# ques: 1\n",
    "\n",
    "s = \"Hello my name is Harsh Raj Jaiswal\"\n",
    "print(s)"
   ]
  },
  {
   "cell_type": "code",
   "execution_count": 2,
   "metadata": {},
   "outputs": [
    {
     "name": "stdout",
     "output_type": "stream",
     "text": [
      "8\n"
     ]
    }
   ],
   "source": [
    "# ques: 2\n",
    "\n",
    "s = input(\"Enter a string\")\n",
    "print(len(s))"
   ]
  },
  {
   "cell_type": "code",
   "execution_count": 4,
   "metadata": {},
   "outputs": [
    {
     "name": "stdout",
     "output_type": "stream",
     "text": [
      "great\n"
     ]
    }
   ],
   "source": [
    "# ques: 3\n",
    "\n",
    "s = \"Python is great\"\n",
    "print(s[-5:])"
   ]
  },
  {
   "cell_type": "code",
   "execution_count": 6,
   "metadata": {},
   "outputs": [
    {
     "name": "stdout",
     "output_type": "stream",
     "text": [
      "python\n",
      "is\n",
      "everywhere\n"
     ]
    }
   ],
   "source": [
    "# ques: 4\n",
    "\n",
    "s = \"python is everywhere\"\n",
    "for i in s.split():\n",
    "    print(i)"
   ]
  },
  {
   "cell_type": "code",
   "execution_count": 7,
   "metadata": {},
   "outputs": [
    {
     "name": "stdout",
     "output_type": "stream",
     "text": [
      "!dlroW olleH\n"
     ]
    }
   ],
   "source": [
    "# ques: 5\n",
    "\n",
    "s = \"Hello World!\"\n",
    "print(s[::-1])"
   ]
  },
  {
   "cell_type": "code",
   "execution_count": 8,
   "metadata": {},
   "outputs": [
    {
     "data": {
      "text/plain": [
       "'HOW ARE YOU?'"
      ]
     },
     "execution_count": 8,
     "metadata": {},
     "output_type": "execute_result"
    }
   ],
   "source": [
    "# ques: 6\n",
    "\n",
    "s = \"How are you?\"\n",
    "s.upper()"
   ]
  },
  {
   "cell_type": "code",
   "execution_count": 9,
   "metadata": {},
   "outputs": [
    {
     "data": {
      "text/plain": [
       "'how is it going?'"
      ]
     },
     "execution_count": 9,
     "metadata": {},
     "output_type": "execute_result"
    }
   ],
   "source": [
    "# ques: 7\n",
    "\n",
    "s = \"How Is It Going?\"\n",
    "s.lower()"
   ]
  },
  {
   "cell_type": "code",
   "execution_count": 10,
   "metadata": {},
   "outputs": [
    {
     "name": "stdout",
     "output_type": "stream",
     "text": [
      "python is easy to learn\n"
     ]
    }
   ],
   "source": [
    "# ques: 8\n",
    "\n",
    "words = [\"python\",\"is\",\"easy\",\"to\",\"learn\"]\n",
    "sen = \" \".join(words)\n",
    "print(sen)"
   ]
  },
  {
   "cell_type": "code",
   "execution_count": 12,
   "metadata": {},
   "outputs": [
    {
     "name": "stdout",
     "output_type": "stream",
     "text": [
      "hello, \n",
      "my name is \n",
      "Harsh Raj Jaiswal\n"
     ]
    }
   ],
   "source": [
    "# ques: 9\n",
    "\n",
    "s = \"hello, \\nmy name is \\nHarsh Raj Jaiswal\"\n",
    "print(s)"
   ]
  },
  {
   "cell_type": "code",
   "execution_count": 13,
   "metadata": {},
   "outputs": [
    {
     "name": "stdout",
     "output_type": "stream",
     "text": [
      "to move to newline '\\n' is used.\n"
     ]
    }
   ],
   "source": [
    "# ques: 10\n",
    "\n",
    "print(r\"to move to newline '\\n' is used.\")"
   ]
  },
  {
   "cell_type": "code",
   "execution_count": 14,
   "metadata": {},
   "outputs": [
    {
     "name": "stdout",
     "output_type": "stream",
     "text": [
      "the variable is 26\n"
     ]
    }
   ],
   "source": [
    "# ques: 11\n",
    "\n",
    "n = 26\n",
    "print(f\"the variable is {n}\")"
   ]
  },
  {
   "cell_type": "code",
   "execution_count": 17,
   "metadata": {},
   "outputs": [
    {
     "name": "stdout",
     "output_type": "stream",
     "text": [
      "python is great.\n"
     ]
    }
   ],
   "source": [
    "# ques: 12\n",
    "\n",
    "s1 = \"python \"\n",
    "s2 = \"is \"\n",
    "s3 = \"great.\"\n",
    "\n",
    "print(s1+s2+s3)"
   ]
  },
  {
   "cell_type": "code",
   "execution_count": 18,
   "metadata": {},
   "outputs": [
    {
     "name": "stdout",
     "output_type": "stream",
     "text": [
      "####################\n"
     ]
    }
   ],
   "source": [
    "# ques: 13\n",
    "\n",
    "print(\"#\"*20)"
   ]
  },
  {
   "cell_type": "code",
   "execution_count": 3,
   "metadata": {},
   "outputs": [
    {
     "name": "stdout",
     "output_type": "stream",
     "text": [
      "1.\n",
      "2.\n",
      "3.\n",
      "4.\n",
      "5.\n",
      "6.\n",
      "7.\n",
      "8.\n",
      "9.\n"
     ]
    }
   ],
   "source": [
    "# ques: 14\n",
    "\n",
    "for i in range(1,10):\n",
    "    print(f\"{i}.\")"
   ]
  },
  {
   "cell_type": "code",
   "execution_count": 4,
   "metadata": {},
   "outputs": [
    {
     "name": "stdout",
     "output_type": "stream",
     "text": [
      "hello\n",
      "my\n",
      "name\n"
     ]
    }
   ],
   "source": [
    "# ques: 15\n",
    "\n",
    "s = input(\"Enter a string\")\n",
    "for i in s.split():\n",
    "    print(i)\n"
   ]
  },
  {
   "cell_type": "code",
   "execution_count": 6,
   "metadata": {},
   "outputs": [
    {
     "name": "stdout",
     "output_type": "stream",
     "text": [
      "yes the string ends with ?\n"
     ]
    }
   ],
   "source": [
    "# ques: 16\n",
    "\n",
    "s = input(\"Enter a string\")\n",
    "if s.endswith(\"?\"):\n",
    "    print(\"yes the string ends with ?\")\n",
    "else:\n",
    "    print(\"no the string does not ends with ?\")"
   ]
  },
  {
   "cell_type": "code",
   "execution_count": 7,
   "metadata": {},
   "outputs": [
    {
     "name": "stdout",
     "output_type": "stream",
     "text": [
      "1\n"
     ]
    }
   ],
   "source": [
    "# ques: 17\n",
    "\n",
    "s = input(\"Enter a string\")\n",
    "print(s.count(\"e\"))"
   ]
  },
  {
   "cell_type": "code",
   "execution_count": 8,
   "metadata": {},
   "outputs": [
    {
     "name": "stdout",
     "output_type": "stream",
     "text": [
      "yes the input is a number\n"
     ]
    }
   ],
   "source": [
    "# ques: 18\n",
    "\n",
    "s = input(\"Enter a string\")\n",
    "if s.isnumeric():\n",
    "    print(\"yes the input is a number\")\n",
    "else:\n",
    "    print(\"no the user input is not a number\")"
   ]
  },
  {
   "cell_type": "code",
   "execution_count": 9,
   "metadata": {},
   "outputs": [
    {
     "data": {
      "text/plain": [
       "'this is not a good string'"
      ]
     },
     "execution_count": 9,
     "metadata": {},
     "output_type": "execute_result"
    }
   ],
   "source": [
    "# ques: 19\n",
    "\n",
    "text = '   this is not a good string           '\n",
    "text.strip()"
   ]
  },
  {
   "cell_type": "code",
   "execution_count": 13,
   "metadata": {},
   "outputs": [
    {
     "name": "stdout",
     "output_type": "stream",
     "text": [
      "found\n"
     ]
    }
   ],
   "source": [
    "# ques: 20\n",
    "\n",
    "s = input(\"Enter a string\")\n",
    "\n",
    "for char in s:\n",
    "    if char.isupper():\n",
    "        print(\"found\")\n",
    "        break\n",
    "else:\n",
    "    print(\"not found\")"
   ]
  },
  {
   "cell_type": "code",
   "execution_count": 14,
   "metadata": {},
   "outputs": [
    {
     "data": {
      "text/plain": [
       "['Joe', 'David', 'Mark', 'Tom', 'Chris', 'Robert']"
      ]
     },
     "execution_count": 14,
     "metadata": {},
     "output_type": "execute_result"
    }
   ],
   "source": [
    "# ques: 21\n",
    "\n",
    "names = 'Joe, David, Mark, Tom, Chris, Robert'\n",
    "names.split(\", \")"
   ]
  },
  {
   "cell_type": "code",
   "execution_count": 22,
   "metadata": {},
   "outputs": [
    {
     "name": "stdout",
     "output_type": "stream",
     "text": [
      "thisaye isaye someaye textaye\n"
     ]
    }
   ],
   "source": [
    "# ques: 22\n",
    "\n",
    "text = 'this is some text'\n",
    "print(\" \".join([word + \"aye\" for word in text.split()]))"
   ]
  },
  {
   "cell_type": "code",
   "execution_count": 23,
   "metadata": {},
   "outputs": [
    {
     "name": "stdout",
     "output_type": "stream",
     "text": [
      "yes 5\n"
     ]
    }
   ],
   "source": [
    "# ques: 23\n",
    "\n",
    "s = input(\"Enter a string\")\n",
    "if s.find(\"fyi\") == -1:\n",
    "    print(\"no\")\n",
    "else:\n",
    "    print(\"yes\",s.find(\"fyi\"))"
   ]
  },
  {
   "cell_type": "code",
   "execution_count": 25,
   "metadata": {},
   "outputs": [
    {
     "name": "stdout",
     "output_type": "stream",
     "text": [
      "python\n"
     ]
    }
   ],
   "source": [
    "# ques: 24\n",
    "\n",
    "text = '%p34@y!*-*!t68h#&on404'\n",
    "for i in text:\n",
    "    if not i.isalpha():\n",
    "        text = text.replace(i,\"\")\n",
    "print(text)"
   ]
  },
  {
   "cell_type": "code",
   "execution_count": 26,
   "metadata": {},
   "outputs": [
    {
     "name": "stdout",
     "output_type": "stream",
     "text": [
      "average word length: 4.64\n"
     ]
    }
   ],
   "source": [
    "p = \"this is a paragraph which is written just for the purpose of providing content to let the average word length be calculated\"\n",
    "arr = []\n",
    "for i in p.split():\n",
    "    arr.append(len(i))\n",
    "print(f\"average word length: {sum(arr)/len(arr):.2f}\")"
   ]
  },
  {
   "cell_type": "code",
   "execution_count": null,
   "metadata": {},
   "outputs": [],
   "source": []
  }
 ],
 "metadata": {
  "kernelspec": {
   "display_name": "base",
   "language": "python",
   "name": "python3"
  },
  "language_info": {
   "codemirror_mode": {
    "name": "ipython",
    "version": 3
   },
   "file_extension": ".py",
   "mimetype": "text/x-python",
   "name": "python",
   "nbconvert_exporter": "python",
   "pygments_lexer": "ipython3",
   "version": "3.12.3"
  }
 },
 "nbformat": 4,
 "nbformat_minor": 2
}

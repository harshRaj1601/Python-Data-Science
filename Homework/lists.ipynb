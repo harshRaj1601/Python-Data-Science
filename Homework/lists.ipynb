{
 "cells": [
  {
   "cell_type": "code",
   "execution_count": 1,
   "metadata": {},
   "outputs": [
    {
     "name": "stdout",
     "output_type": "stream",
     "text": [
      "[145, 1516, 156, 16, 52151, 964674, 4164, 23132, 6546, 65465]\n"
     ]
    }
   ],
   "source": [
    "# ques: 1\n",
    "\n",
    "n = int(input(\"Enter size\"))\n",
    "arr = [int(input(f\"Enter the {i}th element\")) for i in range(n)]\n",
    "print(arr)"
   ]
  },
  {
   "cell_type": "code",
   "execution_count": 1,
   "metadata": {},
   "outputs": [
    {
     "name": "stdout",
     "output_type": "stream",
     "text": [
      "found\n"
     ]
    }
   ],
   "source": [
    "arr = [10,100,250,60,330,1000,85,75,500,96,341,589,2555,347,5]\n",
    "n = int(input(\"Enter the number\"))\n",
    "for i in arr:\n",
    "    if i == n:\n",
    "        print(\"found\")\n",
    "        break\n",
    "else:\n",
    "    print(\"not found\")"
   ]
  },
  {
   "cell_type": "code",
   "execution_count": null,
   "metadata": {},
   "outputs": [],
   "source": []
  }
 ],
 "metadata": {
  "kernelspec": {
   "display_name": "base",
   "language": "python",
   "name": "python3"
  },
  "language_info": {
   "codemirror_mode": {
    "name": "ipython",
    "version": 3
   },
   "file_extension": ".py",
   "mimetype": "text/x-python",
   "name": "python",
   "nbconvert_exporter": "python",
   "pygments_lexer": "ipython3",
   "version": "3.12.3"
  }
 },
 "nbformat": 4,
 "nbformat_minor": 2
}

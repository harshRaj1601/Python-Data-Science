{
 "cells": [
  {
   "cell_type": "markdown",
   "metadata": {},
   "source": [
    "Conditions\n",
    "- if\n",
    "- if else\n",
    "- if elif\n",
    "- match case"
   ]
  },
  {
   "cell_type": "code",
   "execution_count": 2,
   "metadata": {},
   "outputs": [
    {
     "name": "stdout",
     "output_type": "stream",
     "text": [
      "Your Name: harsh\n",
      "Your name is normal\n"
     ]
    }
   ],
   "source": [
    "name = input(\"enter your name\")\n",
    "print(f\"Your Name: {name}\")\n",
    "if len(name)>=10:\n",
    "    print(\"You have a very big name\")\n",
    "else:\n",
    "    print(\"Your name is normal\")"
   ]
  },
  {
   "cell_type": "code",
   "execution_count": 5,
   "metadata": {},
   "outputs": [
    {
     "name": "stdout",
     "output_type": "stream",
     "text": [
      "Your Name: hh\n",
      "You have a very small name\n",
      "You have a normal name\n"
     ]
    }
   ],
   "source": [
    "name = input(\"enter your name\")\n",
    "print(f\"Your Name: {name}\")\n",
    "if len(name)==0:\n",
    "    print(\"You have a no name\")\n",
    "if len(name)<=4:\n",
    "    print(\"You have a very small name\")\n",
    "if len(name)<10:\n",
    "    print(\"You have a normal name\")\n",
    "if len(name)>=10:\n",
    "    print(\"You have a very big name\")\n"
   ]
  },
  {
   "cell_type": "code",
   "execution_count": 6,
   "metadata": {},
   "outputs": [
    {
     "name": "stdout",
     "output_type": "stream",
     "text": [
      "welcome admin\n"
     ]
    }
   ],
   "source": [
    "username = input(\"enter username\")\n",
    "password = input(\"enter password\")\n",
    "\n",
    "if username == \"admin\" and password == \"admin\":\n",
    "    print(\"welcome admin\")\n",
    "elif username==\"user\" and password==\"password\":\n",
    "    print(\"welcome user\")\n",
    "else:\n",
    "    print(\"who??\")"
   ]
  },
  {
   "cell_type": "code",
   "execution_count": null,
   "metadata": {},
   "outputs": [],
   "source": [
    "#nested conditions\n",
    "\n"
   ]
  }
 ],
 "metadata": {
  "kernelspec": {
   "display_name": "base",
   "language": "python",
   "name": "python3"
  },
  "language_info": {
   "codemirror_mode": {
    "name": "ipython",
    "version": 3
   },
   "file_extension": ".py",
   "mimetype": "text/x-python",
   "name": "python",
   "nbconvert_exporter": "python",
   "pygments_lexer": "ipython3",
   "version": "3.12.3"
  }
 },
 "nbformat": 4,
 "nbformat_minor": 2
}

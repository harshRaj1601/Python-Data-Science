{
 "cells": [
  {
   "cell_type": "code",
   "execution_count": 1,
   "metadata": {},
   "outputs": [
    {
     "data": {
      "text/plain": [
       "6354.0"
      ]
     },
     "execution_count": 1,
     "metadata": {},
     "output_type": "execute_result"
    }
   ],
   "source": [
    "p = 12000\n",
    "r = 10.59\n",
    "t = 5\n",
    "\n",
    "si = p*r*t/100\n",
    "\n",
    "si"
   ]
  },
  {
   "cell_type": "markdown",
   "metadata": {},
   "source": [
    "input(\"prompt\")"
   ]
  },
  {
   "cell_type": "code",
   "execution_count": 2,
   "metadata": {},
   "outputs": [
    {
     "data": {
      "text/plain": [
       "'hey'"
      ]
     },
     "execution_count": 2,
     "metadata": {},
     "output_type": "execute_result"
    }
   ],
   "source": [
    "input(\"Enter your name\")"
   ]
  },
  {
   "cell_type": "code",
   "execution_count": 3,
   "metadata": {},
   "outputs": [],
   "source": [
    "name = input(\"Enter your name\")\n",
    "city = input(\"enter your city\")"
   ]
  },
  {
   "cell_type": "code",
   "execution_count": null,
   "metadata": {},
   "outputs": [],
   "source": [
    "a = int(input(\"\"))\n",
    "#alt+shift+down"
   ]
  },
  {
   "cell_type": "code",
   "execution_count": 5,
   "metadata": {},
   "outputs": [
    {
     "data": {
      "text/plain": [
       "3.33"
      ]
     },
     "execution_count": 5,
     "metadata": {},
     "output_type": "execute_result"
    }
   ],
   "source": [
    "#round functions should be used in expressions only\n",
    "\n",
    "round(10/3)\n",
    "round(10/3,2)"
   ]
  },
  {
   "cell_type": "code",
   "execution_count": null,
   "metadata": {},
   "outputs": [],
   "source": []
  },
  {
   "cell_type": "code",
   "execution_count": 6,
   "metadata": {},
   "outputs": [
    {
     "name": "stdout",
     "output_type": "stream",
     "text": [
      "355 divided by 113 is 3.1415929203539825\n",
      "355 divided by 113 is 3.1\n",
      "355 divided by 113 is 3.14\n",
      "355 divided by 113 is 3.142\n",
      "355 divided by 113 is 3.1416\n",
      "355 divided by 113 is 3.14159\n"
     ]
    }
   ],
   "source": [
    "a = 355\n",
    "b = 113\n",
    "\n",
    "print(f\"{a} divided by {b} is {a/b}\")\n",
    "print(f\"{a} divided by {b} is {a/b:.1f}\")\n",
    "print(f\"{a} divided by {b} is {a/b:.2f}\")\n",
    "print(f\"{a} divided by {b} is {a/b:.3f}\")\n",
    "print(f\"{a} divided by {b} is {a/b:.4f}\")\n",
    "print(f\"{a} divided by {b} is {a/b:.5f}\")\n"
   ]
  },
  {
   "cell_type": "code",
   "execution_count": 20,
   "metadata": {},
   "outputs": [
    {
     "name": "stdout",
     "output_type": "stream",
     "text": [
      "            The final empire            | Brandon Sanderson  | 499\n",
      "             The art of war             |      Sun Tzu       | 550\n",
      "  Stormlight Archives: The wa of kings  | Brandon Sanderson  | 550\n"
     ]
    }
   ],
   "source": [
    "# text alignment\n",
    "\n",
    "n1 = \"The final empire\"\n",
    "a1 = \"Brandon Sanderson\"\n",
    "p1 = 499\n",
    "\n",
    "n2 = \"The art of war\"\n",
    "a2 = \"Sun Tzu\"\n",
    "p2 = 239\n",
    "\n",
    "n3 = \"Stormlight Archives: The wa of kings\"\n",
    "a3 = \"Brandon Sanderson\"\n",
    "p3 = 550\n",
    "\n",
    "\n",
    "\n",
    "print(f\"{n1:^40}|{a1:^20}| {p1}\")\n",
    "print(f\"{n2:^40}|{a2:^20}| {p3}\")\n",
    "print(f\"{n3:^40}|{a3:^20}| {p3}\")\n"
   ]
  },
  {
   "cell_type": "code",
   "execution_count": null,
   "metadata": {},
   "outputs": [],
   "source": []
  }
 ],
 "metadata": {
  "kernelspec": {
   "display_name": "base",
   "language": "python",
   "name": "python3"
  },
  "language_info": {
   "codemirror_mode": {
    "name": "ipython",
    "version": 3
   },
   "file_extension": ".py",
   "mimetype": "text/x-python",
   "name": "python",
   "nbconvert_exporter": "python",
   "pygments_lexer": "ipython3",
   "version": "3.12.3"
  }
 },
 "nbformat": 4,
 "nbformat_minor": 2
}

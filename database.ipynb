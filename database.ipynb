{
 "cells": [
  {
   "cell_type": "markdown",
   "metadata": {},
   "source": [
    "# SQLalchemy"
   ]
  },
  {
   "cell_type": "code",
   "execution_count": 2,
   "metadata": {},
   "outputs": [],
   "source": [
    "from sqlalchemy import create_engine, Column, Integer, String, DateTime\n",
    "from sqlalchemy.orm import sessionmaker, declarative_base\n",
    "from datetime import datetime"
   ]
  },
  {
   "cell_type": "code",
   "execution_count": 3,
   "metadata": {},
   "outputs": [],
   "source": [
    "Base = declarative_base()\n",
    "\n",
    "class Task(Base):\n",
    "    __tablename__ = \"tasks\"\n",
    "    id = Column(Integer,primary_key = True)\n",
    "    task = Column(String)\n",
    "    deadline = Column(DateTime, default=datetime.now())"
   ]
  },
  {
   "cell_type": "code",
   "execution_count": 4,
   "metadata": {},
   "outputs": [
    {
     "name": "stdout",
     "output_type": "stream",
     "text": [
      "2024-08-14 18:52:25,246 INFO sqlalchemy.engine.Engine BEGIN (implicit)\n",
      "2024-08-14 18:52:25,249 INFO sqlalchemy.engine.Engine PRAGMA main.table_info(\"tasks\")\n",
      "2024-08-14 18:52:25,253 INFO sqlalchemy.engine.Engine [raw sql] ()\n",
      "2024-08-14 18:52:25,259 INFO sqlalchemy.engine.Engine PRAGMA temp.table_info(\"tasks\")\n",
      "2024-08-14 18:52:25,262 INFO sqlalchemy.engine.Engine [raw sql] ()\n",
      "2024-08-14 18:52:25,268 INFO sqlalchemy.engine.Engine \n",
      "CREATE TABLE tasks (\n",
      "\tid INTEGER NOT NULL, \n",
      "\ttask VARCHAR, \n",
      "\tdeadline DATETIME, \n",
      "\tPRIMARY KEY (id)\n",
      ")\n",
      "\n",
      "\n",
      "2024-08-14 18:52:25,271 INFO sqlalchemy.engine.Engine [no key 0.00295s] ()\n",
      "2024-08-14 18:52:25,284 INFO sqlalchemy.engine.Engine COMMIT\n"
     ]
    }
   ],
   "source": [
    "engine = create_engine(\"sqlite:///mydb.sqlite3\", echo = True)\n",
    "Base.metadata.create_all(engine)"
   ]
  },
  {
   "cell_type": "code",
   "execution_count": 9,
   "metadata": {},
   "outputs": [],
   "source": [
    "def open_db():\n",
    "    engine = create_engine(\"sqlite:///mydb.sqlite3\")\n",
    "    Session = sessionmaker(bind=engine)\n",
    "    return Session()\n"
   ]
  },
  {
   "cell_type": "code",
   "execution_count": 10,
   "metadata": {},
   "outputs": [],
   "source": [
    "db = open_db()\n",
    "db.add(Task(task=\"Learn SQLAlchemy\", deadline=datetime(2024,8,1)))\n",
    "db.add(Task(task=\"Happy Independence Day\"))\n",
    "db.commit()\n",
    "db.close()"
   ]
  },
  {
   "cell_type": "code",
   "execution_count": null,
   "metadata": {},
   "outputs": [],
   "source": []
  }
 ],
 "metadata": {
  "kernelspec": {
   "display_name": "base",
   "language": "python",
   "name": "python3"
  },
  "language_info": {
   "codemirror_mode": {
    "name": "ipython",
    "version": 3
   },
   "file_extension": ".py",
   "mimetype": "text/x-python",
   "name": "python",
   "nbconvert_exporter": "python",
   "pygments_lexer": "ipython3",
   "version": "3.12.3"
  }
 },
 "nbformat": 4,
 "nbformat_minor": 2
}

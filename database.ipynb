{
 "cells": [
  {
   "cell_type": "markdown",
   "metadata": {},
   "source": [
    "# SQLalchemy\n"
   ]
  },
  {
   "cell_type": "code",
   "execution_count": 1,
   "metadata": {},
   "outputs": [],
   "source": [
    "from sqlalchemy import create_engine, Column, Integer, String, DateTime\n",
    "from sqlalchemy.orm import sessionmaker, declarative_base\n",
    "from datetime import datetime"
   ]
  },
  {
   "cell_type": "code",
   "execution_count": 2,
   "metadata": {},
   "outputs": [],
   "source": [
    "Base = declarative_base()\n",
    "\n",
    "\n",
    "class Task(Base):\n",
    "    __tablename__ = \"tasks\"\n",
    "    id = Column(Integer, primary_key=True)\n",
    "    task = Column(String)\n",
    "    deadline = Column(DateTime, default=datetime.now())"
   ]
  },
  {
   "cell_type": "code",
   "execution_count": 3,
   "metadata": {},
   "outputs": [
    {
     "name": "stdout",
     "output_type": "stream",
     "text": [
      "2024-08-16 17:41:14,472 INFO sqlalchemy.engine.Engine BEGIN (implicit)\n",
      "2024-08-16 17:41:14,472 INFO sqlalchemy.engine.Engine PRAGMA main.table_info(\"tasks\")\n",
      "2024-08-16 17:41:14,472 INFO sqlalchemy.engine.Engine [raw sql] ()\n",
      "2024-08-16 17:41:14,487 INFO sqlalchemy.engine.Engine COMMIT\n"
     ]
    }
   ],
   "source": [
    "engine = create_engine(\"sqlite:///mydb.sqlite3\", echo=True)\n",
    "Base.metadata.create_all(engine)"
   ]
  },
  {
   "cell_type": "code",
   "execution_count": 4,
   "metadata": {},
   "outputs": [],
   "source": [
    "def open_db():\n",
    "    engine = create_engine(\"sqlite:///mydb.sqlite3\")\n",
    "    Session = sessionmaker(bind=engine)\n",
    "    return Session()"
   ]
  },
  {
   "cell_type": "code",
   "execution_count": 10,
   "metadata": {},
   "outputs": [],
   "source": [
    "db = open_db()\n",
    "db.add(Task(task=\"Learn SQLAlchemy\", deadline=datetime(2024, 8, 1)))\n",
    "db.add(Task(task=\"Happy Independence Day\"))\n",
    "db.add(Task(task=\"Take out the trash\"))\n",
    "db.add(Task(task=\"clean the fridge\", deadline=datetime(2024, 8, 23)))\n",
    "db.add(Task(task=\"Generate Reports\", deadline=datetime(2024, 8, 16)))\n",
    "db.add(Task(task=\"Pay Subscription fees\", deadline=datetime(2024, 8, 18)))\n",
    "db.add(Task(task=\"Celebrate birthday\", deadline=datetime(2024, 8, 25)))\n",
    "db.commit()\n",
    "db.close()"
   ]
  },
  {
   "cell_type": "code",
   "execution_count": 22,
   "metadata": {},
   "outputs": [
    {
     "name": "stdout",
     "output_type": "stream",
     "text": [
      "#1 | Learn SQLAlchemy               | 2024-08-01 | 00:00:00\n",
      "#2 | Happy Independence Day         | 2024-08-14 | 18:50:29.887991\n",
      "#3 | Learn SQLAlchemy               | 2024-08-01 | 00:00:00\n",
      "#4 | Happy Independence Day         | 2024-08-16 | 17:41:14.304592\n",
      "#5 | Take out the trash             | 2024-08-16 | 17:41:14.304592\n",
      "#6 | clean the fridge               | 2024-08-23 | 00:00:00\n",
      "#7 | Generate Reports               | 2024-08-16 | 00:00:00\n",
      "#8 | Pay Subscription fees          | 2024-08-18 | 00:00:00\n",
      "#9 | Celebrate birthday             | 2024-08-25 | 00:00:00\n"
     ]
    }
   ],
   "source": [
    "db = open_db()\n",
    "tasks = db.query(Task).all()\n",
    "\n",
    "for item in tasks:\n",
    "    print(\n",
    "        f\"#{item.id} | {item.task:30} | {item.deadline.date()} | {item.deadline.time()}\"\n",
    "    )\n",
    "    \n",
    "db.close()"
   ]
  },
  {
   "cell_type": "code",
   "execution_count": 20,
   "metadata": {},
   "outputs": [
    {
     "name": "stdout",
     "output_type": "stream",
     "text": [
      "#9 | Celebrate birthday             | 2024-08-25 | 00:00:00\n"
     ]
    }
   ],
   "source": [
    "# get item by id\n",
    "\n",
    "id = 5\n",
    "db = open_db()\n",
    "task = db.get(Task, id)\n",
    "if task:\n",
    "    print(\n",
    "        f\"#{item.id} | {item.task:30} | {item.deadline.date()} | {item.deadline.time()}\"\n",
    "    )\n",
    "    \n",
    "db.close()"
   ]
  },
  {
   "cell_type": "code",
   "execution_count": 24,
   "metadata": {},
   "outputs": [
    {
     "name": "stdout",
     "output_type": "stream",
     "text": [
      "#5 | Take out the trash             | 2024-08-16 | 17:41:14.304592\n"
     ]
    }
   ],
   "source": [
    "title = \"Take out the trash\"\n",
    "db = open_db()\n",
    "tasks = db.query(Task).filter(title == Task.task).all()\n",
    "for item in tasks:\n",
    "    print(\n",
    "        f\"#{item.id} | {item.task:30} | {item.deadline.date()} | {item.deadline.time()}\"\n",
    "    )\n",
    "    \n",
    "db.close()"
   ]
  },
  {
   "cell_type": "code",
   "execution_count": 29,
   "metadata": {},
   "outputs": [
    {
     "name": "stdout",
     "output_type": "stream",
     "text": [
      "#7 | Generate Reports               | 2024-08-16 | 00:00:00\n"
     ]
    }
   ],
   "source": [
    "date  = \"16/08/2024\"\n",
    "date  = datetime.strptime(date,\"%d/%m/%Y\")\n",
    "db = open_db()\n",
    "tasks = db.query(Task).filter(Task.deadline == date).all()\n",
    "for item in tasks:\n",
    "    print(\n",
    "        f\"#{item.id} | {item.task:30} | {item.deadline.date()} | {item.deadline.time()}\"\n",
    "    )\n",
    "    \n",
    "db.close()"
   ]
  },
  {
   "cell_type": "code",
   "execution_count": 30,
   "metadata": {},
   "outputs": [
    {
     "name": "stdout",
     "output_type": "stream",
     "text": [
      "#2 | Happy Independence Day         | 2024-08-14 | 18:50:29.887991\n",
      "#4 | Happy Independence Day         | 2024-08-16 | 17:41:14.304592\n",
      "#9 | Celebrate birthday             | 2024-08-25 | 00:00:00\n"
     ]
    }
   ],
   "source": [
    "title = \"day\"\n",
    "db = open_db()\n",
    "tasks = db.query(Task).filter(Task.task.icontains(title)).all()\n",
    "for item in tasks:\n",
    "    print(\n",
    "        f\"#{item.id} | {item.task:30} | {item.deadline.date()} | {item.deadline.time()}\"\n",
    "    )\n",
    "    \n",
    "db.close()"
   ]
  },
  {
   "cell_type": "code",
   "execution_count": 32,
   "metadata": {},
   "outputs": [],
   "source": [
    "id = 7\n",
    "db = open_db()\n",
    "result = db.get(Task,id)\n",
    "if result:\n",
    "    result.task = \"Generate student Reports\"\n",
    "    result.deadline = datetime(2024,8,20)\n",
    "    db.commit()\n",
    "db.close()"
   ]
  },
  {
   "cell_type": "code",
   "execution_count": 31,
   "metadata": {},
   "outputs": [
    {
     "name": "stdout",
     "output_type": "stream",
     "text": [
      "Deleted\n"
     ]
    }
   ],
   "source": [
    "id = 6\n",
    "db = open_db()\n",
    "result = db.get(Task,id)\n",
    "if result:\n",
    "    db.delete(result)\n",
    "    db.commit()\n",
    "    print(\"Deleted\")\n",
    "db.close()"
   ]
  }
 ],
 "metadata": {
  "kernelspec": {
   "display_name": "base",
   "language": "python",
   "name": "python3"
  },
  "language_info": {
   "codemirror_mode": {
    "name": "ipython",
    "version": 3
   },
   "file_extension": ".py",
   "mimetype": "text/x-python",
   "name": "python",
   "nbconvert_exporter": "python",
   "pygments_lexer": "ipython3",
   "version": "3.12.3"
  }
 },
 "nbformat": 4,
 "nbformat_minor": 2
}

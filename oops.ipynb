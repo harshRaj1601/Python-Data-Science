{
 "cells": [
  {
   "cell_type": "code",
   "execution_count": 2,
   "metadata": {},
   "outputs": [
    {
     "name": "stdout",
     "output_type": "stream",
     "text": [
      "<class 'int'>\n"
     ]
    }
   ],
   "source": [
    "x = 12\n",
    "print(type(x))"
   ]
  },
  {
   "cell_type": "markdown",
   "metadata": {},
   "source": [
    "OOP\n",
    "- class ✅\n",
    "- object✅\n",
    "- inheritance ✅\n",
    "- polymorphism ☠️\n",
    "- encapsulation☠️\n",
    "- abstraction☠️"
   ]
  },
  {
   "cell_type": "code",
   "execution_count": 4,
   "metadata": {},
   "outputs": [],
   "source": [
    "class Nothing:\n",
    "    pass"
   ]
  },
  {
   "cell_type": "code",
   "execution_count": 8,
   "metadata": {},
   "outputs": [
    {
     "data": {
      "text/plain": [
       "'Harsh'"
      ]
     },
     "execution_count": 8,
     "metadata": {},
     "output_type": "execute_result"
    }
   ],
   "source": [
    "s = \"Harsh\"\n",
    "s.translate(dict(a=\"j\"))"
   ]
  },
  {
   "cell_type": "code",
   "execution_count": 6,
   "metadata": {},
   "outputs": [],
   "source": [
    "class Book:\n",
    "    title = \"\"\n",
    "    author = \"\"\n",
    "    "
   ]
  },
  {
   "cell_type": "code",
   "execution_count": 14,
   "metadata": {},
   "outputs": [
    {
     "name": "stdout",
     "output_type": "stream",
     "text": [
      "<__main__.Book object at 0x000001D783939CA0>\n",
      "Brandon Sanderson Words of Radiance\n",
      "<__main__.Book object at 0x000001D783939D00> The Way of Kings Brandon Sanderson\n"
     ]
    }
   ],
   "source": [
    "b1 = Book()\n",
    "print(b1)\n",
    "b1.title = \"Words of Radiance\"\n",
    "b1.author = \"Brandon Sanderson\"\n",
    "print(b1.author,b1.title)\n",
    "\n",
    "b2 = Book()\n",
    "b2.title = \"The Way of Kings\"\n",
    "b2.author = \"Brandon Sanderson\"\n",
    "print(b2,b2.title,b2.author)"
   ]
  },
  {
   "cell_type": "code",
   "execution_count": 20,
   "metadata": {},
   "outputs": [],
   "source": [
    "class ChatMessage:\n",
    "    def __init__(self,s,m,dp,date,n,p,mt,hs):\n",
    "        self.sender = s\n",
    "        self.last_msg = m\n",
    "        self.dp = dp\n",
    "        self.date = date\n",
    "        self.notif = n\n",
    "        self.pinned = p\n",
    "        self.muted = mt\n",
    "        self.has_status = hs"
   ]
  },
  {
   "cell_type": "code",
   "execution_count": 21,
   "metadata": {},
   "outputs": [],
   "source": [
    "chat1 = ChatMessage(\"Amazon Pay\",\"You have coupon\",\"amazon.png\",\"12/12/2024\",0,False,False,True)\n",
    "#chat2 = ChatMessage()"
   ]
  },
  {
   "cell_type": "code",
   "execution_count": 24,
   "metadata": {},
   "outputs": [],
   "source": [
    "chat1.__init__(\"Paytm\",\"Your balance is 10000\",\"paytm.png\",\"12/12/2025\",0,False,False,True)"
   ]
  },
  {
   "cell_type": "code",
   "execution_count": 28,
   "metadata": {},
   "outputs": [],
   "source": [
    "class Student:\n",
    "    def __init__(self,name,std,roll_no):\n",
    "        self.name = name\n",
    "        self.std = std\n",
    "        self.roll_no = roll_no\n",
    "    def display(self):\n",
    "        print(self.name,self.std,self.roll_no)\n",
    "        "
   ]
  },
  {
   "cell_type": "code",
   "execution_count": 29,
   "metadata": {},
   "outputs": [
    {
     "name": "stdout",
     "output_type": "stream",
     "text": [
      "Harsh 12 6954739\n"
     ]
    }
   ],
   "source": [
    "s1 = Student(\"Harsh\",12,6954739)\n",
    "s1.display()"
   ]
  },
  {
   "cell_type": "code",
   "execution_count": 31,
   "metadata": {},
   "outputs": [],
   "source": [
    "class Pet:\n",
    "    def __init__(self,name,color,gender) -> None:\n",
    "        self.name = name\n",
    "        self.color = color\n",
    "        self.gender = gender\n",
    "    def display(self):\n",
    "        print(\"Pet ----->\")\n",
    "        print(\"Name: \",self.name)\n",
    "        print(\"Color: \",self.color)\n",
    "        print(\"Gender: \",self.gender)\n",
    "        print(\"_\"*20)"
   ]
  },
  {
   "cell_type": "code",
   "execution_count": 32,
   "metadata": {},
   "outputs": [
    {
     "name": "stdout",
     "output_type": "stream",
     "text": [
      "Pet ----->\n",
      "Name:  Kutta\n",
      "Color:  black\n",
      "Gender:  male\n",
      "____________________\n",
      "Pet ----->\n",
      "Name:  billi\n",
      "Color:  white\n",
      "Gender:  female\n",
      "____________________\n"
     ]
    }
   ],
   "source": [
    "p1 = Pet(\"Kutta\",\"black\",\"male\")\n",
    "p2 = Pet(\"billi\",\"white\",\"female\")\n",
    "\n",
    "p1.display()\n",
    "p2.display()"
   ]
  },
  {
   "cell_type": "code",
   "execution_count": 38,
   "metadata": {},
   "outputs": [],
   "source": [
    "from dataclasses import dataclass\n",
    "\n",
    "@dataclass\n",
    "\n",
    "class PET:\n",
    "    pet_type : str\n",
    "    gender : str\n",
    "    color : str\n",
    "    age : int"
   ]
  },
  {
   "cell_type": "code",
   "execution_count": 39,
   "metadata": {},
   "outputs": [],
   "source": [
    "p3 = PET(pet_type=\"fish\",gender=\"male\",color=\"orange\",age=1)"
   ]
  },
  {
   "cell_type": "code",
   "execution_count": 35,
   "metadata": {},
   "outputs": [
    {
     "data": {
      "text/plain": [
       "PET(pet_type='fish', gender='male', color='orange', age=1)"
      ]
     },
     "execution_count": 35,
     "metadata": {},
     "output_type": "execute_result"
    }
   ],
   "source": [
    "p3"
   ]
  },
  {
   "cell_type": "code",
   "execution_count": 40,
   "metadata": {},
   "outputs": [],
   "source": [
    "@dataclass\n",
    "\n",
    "class Rectangle:\n",
    "    length : int | float\n",
    "    width : int | float\n",
    "    def area(self):\n",
    "        return self.length * self.width\n",
    "    def perimeter(self):\n",
    "        return 2*(self.length+self.width)"
   ]
  },
  {
   "cell_type": "code",
   "execution_count": 41,
   "metadata": {},
   "outputs": [],
   "source": [
    "s1 = Rectangle(12.2,36)"
   ]
  },
  {
   "cell_type": "code",
   "execution_count": 43,
   "metadata": {},
   "outputs": [
    {
     "data": {
      "text/plain": [
       "96.4"
      ]
     },
     "execution_count": 43,
     "metadata": {},
     "output_type": "execute_result"
    }
   ],
   "source": [
    "s1.perimeter()"
   ]
  },
  {
   "cell_type": "code",
   "execution_count": 9,
   "metadata": {},
   "outputs": [],
   "source": [
    "class Vehicle:\n",
    "    def __init__(self,brand,model):\n",
    "        self.brand = brand\n",
    "        self.model = model\n",
    "    def display(self):\n",
    "        print(f\"{self.brand} - {self.model}\")"
   ]
  },
  {
   "cell_type": "code",
   "execution_count": 11,
   "metadata": {},
   "outputs": [],
   "source": [
    "class Car(Vehicle):\n",
    "    def __init__(self, brand, model,cartype,seats):\n",
    "        super().__init__(brand, model)\n",
    "        self.cartype = cartype\n",
    "        self.seats = seats"
   ]
  },
  {
   "cell_type": "code",
   "execution_count": 13,
   "metadata": {},
   "outputs": [],
   "source": [
    "c1 = Car(\"Toyota\",\"Corolla\",\"Sedan\",5)\n",
    "c2 = Car(\"Honda\",\"Civic\",\"Sedan\",5)"
   ]
  },
  {
   "cell_type": "code",
   "execution_count": 14,
   "metadata": {},
   "outputs": [
    {
     "name": "stdout",
     "output_type": "stream",
     "text": [
      "Toyota - Corolla\n"
     ]
    }
   ],
   "source": [
    "c1.display()"
   ]
  },
  {
   "cell_type": "code",
   "execution_count": 15,
   "metadata": {},
   "outputs": [],
   "source": [
    "class SuperList(list):\n",
    "    def __init__(self,*args):\n",
    "        super().__init__(*args)\n",
    "    def sum(self):\n",
    "        return sum([x for x in self if isinstance(x,int)])"
   ]
  },
  {
   "cell_type": "code",
   "execution_count": 16,
   "metadata": {},
   "outputs": [
    {
     "name": "stdout",
     "output_type": "stream",
     "text": [
      "[78, 54, 54, 'fgh', 87, 'tyth', 87, 'thth', 4, 'ththt', 54, 8]\n"
     ]
    }
   ],
   "source": [
    "x = SuperList([78,54,54,\"fgh\",87,\"tyth\",87,\"thth\",4,\"ththt\",54,8])\n",
    "\n",
    "print(x)"
   ]
  },
  {
   "cell_type": "code",
   "execution_count": 17,
   "metadata": {},
   "outputs": [
    {
     "data": {
      "text/plain": [
       "426"
      ]
     },
     "execution_count": 17,
     "metadata": {},
     "output_type": "execute_result"
    }
   ],
   "source": [
    "x.sum()"
   ]
  },
  {
   "cell_type": "code",
   "execution_count": 19,
   "metadata": {},
   "outputs": [],
   "source": [
    "import random\n",
    "\n",
    "class Wizard:\n",
    "    def __init__(self,spells) -> None:\n",
    "        self.spells = spells\n",
    "    def cast_spell(self):\n",
    "        print(f\"casting spell {random.choice(self.spells)}\")\n",
    "\n",
    "class Warrior:\n",
    "    def __init__(self, weapons) -> None:\n",
    "        self.weapons = weapons\n",
    "    def attack(self):\n",
    "        print(f\"attacking with {random.choice(self.weapons)}\")\n",
    "        \n",
    "class BattleMage(Wizard,Warrior):\n",
    "    def __init__(self, spells, weapons) -> None:\n",
    "        Wizard.__init__(self,spells)\n",
    "        Warrior.__init__(self,weapons)\n",
    "    def fight(self):\n",
    "        self.cast_spell()\n",
    "        self.attack()"
   ]
  },
  {
   "cell_type": "code",
   "execution_count": 20,
   "metadata": {},
   "outputs": [
    {
     "name": "stdout",
     "output_type": "stream",
     "text": [
      "Warrior\n",
      "attacking with sword\n",
      "Wizard\n",
      "casting spell Lighting\n",
      "BattleMage\n",
      "casting spell Icevall\n",
      "attacking with maze\n"
     ]
    }
   ],
   "source": [
    "w = Warrior([\"sword\",\"axe\",\"maze\"])\n",
    "wz = Wizard([\"Fireball\",\"IceBall\",\"Lighting\"])\n",
    "bm = BattleMage([\"Fireball\",\"Icevall\",\"lighting\"],[\"sword\",\"axe\",\"maze\"])\n",
    "\n",
    "\n",
    "print(\"Warrior\")\n",
    "w.attack()\n",
    "print(\"Wizard\")\n",
    "wz.cast_spell()\n",
    "print(\"BattleMage\")\n",
    "bm.fight()"
   ]
  },
  {
   "cell_type": "code",
   "execution_count": null,
   "metadata": {},
   "outputs": [],
   "source": []
  }
 ],
 "metadata": {
  "kernelspec": {
   "display_name": "base",
   "language": "python",
   "name": "python3"
  },
  "language_info": {
   "codemirror_mode": {
    "name": "ipython",
    "version": 3
   },
   "file_extension": ".py",
   "mimetype": "text/x-python",
   "name": "python",
   "nbconvert_exporter": "python",
   "pygments_lexer": "ipython3",
   "version": "3.12.3"
  }
 },
 "nbformat": 4,
 "nbformat_minor": 2
}

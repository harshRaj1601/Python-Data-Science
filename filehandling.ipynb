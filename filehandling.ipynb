{
 "cells": [
  {
   "cell_type": "code",
   "execution_count": 2,
   "metadata": {},
   "outputs": [],
   "source": [
    "import os"
   ]
  },
  {
   "cell_type": "code",
   "execution_count": 3,
   "metadata": {},
   "outputs": [
    {
     "name": "stdout",
     "output_type": "stream",
     "text": [
      "c:\\Users\\rajku\\Documents\\Python Data Science\n"
     ]
    }
   ],
   "source": [
    "base = os.getcwd()\n",
    "print(base)"
   ]
  },
  {
   "cell_type": "code",
   "execution_count": 4,
   "metadata": {},
   "outputs": [
    {
     "name": "stdout",
     "output_type": "stream",
     "text": [
      "['.git', 'basics.ipynb', 'conditions.ipynb', 'filehandling.ipynb', 'functions.ipynb', 'Homework', 'io.ipynb', 'kahani.py', 'kahani.txt', 'kahanireturns.py', 'lists.ipynb', 'loops.ipynb', 'mynotes', 'pattern1.py', 'strings.ipynb']\n"
     ]
    }
   ],
   "source": [
    "content = os.listdir()\n",
    "print(content)"
   ]
  },
  {
   "cell_type": "code",
   "execution_count": 5,
   "metadata": {},
   "outputs": [
    {
     "data": {
      "text/plain": [
       "['C:\\\\']"
      ]
     },
     "execution_count": 5,
     "metadata": {},
     "output_type": "execute_result"
    }
   ],
   "source": [
    "os.listdrives()"
   ]
  },
  {
   "cell_type": "code",
   "execution_count": 6,
   "metadata": {},
   "outputs": [],
   "source": [
    "os.makedirs(\"mynotes\",exist_ok=True)"
   ]
  },
  {
   "cell_type": "code",
   "execution_count": 7,
   "metadata": {},
   "outputs": [],
   "source": [
    "with open(\"mynotes/note1.txt\",\"w\") as f:\n",
    "    f.write(\"Hello My name is Harsh Raj Jaiswal\\n\")\n",
    "    f.write(\"Python file handling is super easy\\n\")"
   ]
  },
  {
   "cell_type": "code",
   "execution_count": 8,
   "metadata": {},
   "outputs": [],
   "source": [
    "with open(\"mynotes/note1.txt\",\"a\") as f:\n",
    "    f.write(\"Hello My name is Harsh Jaiswal\\n\")\n",
    "    f.write(\"Python file handling is tuff\\n\")"
   ]
  },
  {
   "cell_type": "code",
   "execution_count": 9,
   "metadata": {},
   "outputs": [
    {
     "name": "stdout",
     "output_type": "stream",
     "text": [
      "Hello My name is Harsh Raj Jaiswal\n",
      "Python file handling is super easy\n",
      "Hello My name is Harsh Jaiswal\n",
      "Python file handling is tuff\n",
      "\n"
     ]
    }
   ],
   "source": [
    "with open(\"mynotes/note1.txt\") as file:\n",
    "    data = file.read()\n",
    "\n",
    "print(data)"
   ]
  },
  {
   "cell_type": "code",
   "execution_count": 10,
   "metadata": {},
   "outputs": [
    {
     "name": "stdout",
     "output_type": "stream",
     "text": [
      "\n",
      "while True:\n",
      "    data = input('enter a story --')\n",
      "    if len(data)==0:\n",
      "        print(\"end\")\n",
      "        break\n",
      "\n"
     ]
    }
   ],
   "source": [
    "with open(\"kahani.py\") as f:\n",
    "    data = f.read()\n",
    "print(data)"
   ]
  },
  {
   "cell_type": "code",
   "execution_count": 13,
   "metadata": {},
   "outputs": [
    {
     "data": {
      "text/plain": [
       "['2024062891.pdf',\n",
       " 'Admit Card.pdf',\n",
       " 'admitcard6sem.pdf',\n",
       " 'chappaldotnet.pdf',\n",
       " 'Data Science & Big Data Analytics ( PDFDrive ).pdf',\n",
       " 'db.pdf',\n",
       " 'duaddmission.pdf',\n",
       " 'File 01.pdf',\n",
       " 'harshdotnet.pdf',\n",
       " 'harsh_resume.pdf',\n",
       " 'Higher Engineering Mathematics.pdf',\n",
       " 'kartik.pdf',\n",
       " 'KnowYourPayment.pdf',\n",
       " 'mcu.pdf',\n",
       " 'mobile computing.pdf',\n",
       " 'NIT2411155 (1).pdf',\n",
       " 'NIT2411155.pdf',\n",
       " 'passbook.pdf',\n",
       " 'Project Work.pdf',\n",
       " 'resumeharsh.pdf',\n",
       " 'ViewGeneratedDocs.pdf']"
      ]
     },
     "execution_count": 13,
     "metadata": {},
     "output_type": "execute_result"
    }
   ],
   "source": [
    "items = os.listdir(\"c:/Users/rajku/Downloads\")\n",
    "pdf = list(filter(lambda file: file.endswith(\".pdf\"), items))\n",
    "pdf"
   ]
  },
  {
   "cell_type": "code",
   "execution_count": 15,
   "metadata": {},
   "outputs": [
    {
     "name": "stdout",
     "output_type": "stream",
     "text": [
      "0.3657379150390625\n",
      "0.13425350189208984\n",
      "0.9189052581787109\n",
      "2.323113441467285\n",
      "50.305602073669434\n",
      "0.28214073181152344\n",
      "0.31653881072998047\n",
      "3.905266761779785\n",
      "2.322721481323242\n",
      "0.3477306365966797\n",
      "5.802727699279785\n",
      "3.6623401641845703\n",
      "0.00390625\n",
      "381.3973569869995\n",
      "1.0074434280395508\n",
      "0.10820484161376953\n",
      "0.10820484161376953\n",
      "0.051604270935058594\n",
      "1.1899023056030273\n",
      "0.4952678680419922\n",
      "0.25759124755859375\n"
     ]
    }
   ],
   "source": [
    "for file in pdf:\n",
    "    path = f\"c:/Users/rajku/Downloads/{file}\"\n",
    "    size = os.path.getsize(path)/1024/1024\n",
    "    print(size)"
   ]
  }
 ],
 "metadata": {
  "kernelspec": {
   "display_name": "base",
   "language": "python",
   "name": "python3"
  },
  "language_info": {
   "codemirror_mode": {
    "name": "ipython",
    "version": 3
   },
   "file_extension": ".py",
   "mimetype": "text/x-python",
   "name": "python",
   "nbconvert_exporter": "python",
   "pygments_lexer": "ipython3",
   "version": "3.12.3"
  }
 },
 "nbformat": 4,
 "nbformat_minor": 2
}
